{
  "nbformat": 4,
  "nbformat_minor": 0,
  "metadata": {
    "colab": {
      "name": "Feature Engineering (Do we know our data).ipynb",
      "version": "0.3.2",
      "provenance": [],
      "collapsed_sections": []
    },
    "kernelspec": {
      "name": "python3",
      "display_name": "Python 3"
    }
  },
  "cells": [
    {
      "metadata": {
        "id": "QJb3sp4ZCF_O",
        "colab_type": "text"
      },
      "cell_type": "markdown",
      "source": [
        "# Feature Engineering\n",
        "\n",
        "Notebook supporting the [**Do we know our data, as good as we know our tools** talk](https://devoxxuk19.confinabox.com/talk/VEM-8021/Do_we_know_our_data_as_good_as_we_know_our_tools%3F) at [Devoxx UK 2019](http://twitter.com/@DevoxxUK).\n",
        "\n",
        "The contents of the notebook is inspired by many sources.\n",
        "\n",
        "\n",
        "### High-level steps covered:\n",
        "\n",
        "- Find hidden information\n",
        "  - feature extraction\n",
        "  - applying statistical functions\n",
        "  - apply physics functions\n",
        "- Deal with too much data\n",
        "  - dimensionality reduction\n",
        "  - feature selection\n",
        "- Statistical Inference \n",
        "\n",
        "\n",
        "### Resources\n",
        "\n",
        "- [Basic Feature Engineering With Time Series Data in Python](http://machinelearningmastery.com/basic-feature-engineering-time-series-data-python/)\n",
        "- [Zillow Prize - EDA, Data Cleaning & Feature Engineering](https://www.kaggle.com/lauracozma/eda-data-cleaning-feature-engineering)\n",
        "- [Feature-wise transformations](https://distill.pub/2018/feature-wise-transformations)\n",
        "- [tsfresh - tsfresh is used to to extract characteristics from time series](https://tsfresh.readthedocs.io/en/latest/text/introduction.html)\n",
        "- [featuretools - an open source python framework for automated feature engineering](https://github.com/featuretools/featuretools/)\n",
        "- [Synthetic features and outliers notebook](https://colab.research.google.com/notebooks/mlcc/synthetic_features_and_outliers.ipynb?utm_source=mlcc&utm_campaign=colab-external&utm_medium=referral&utm_content=syntheticfeatures-colab&hl=en#scrollTo=jnKgkN5fHbGy)\n",
        "\n",
        "\n",
        "Please refer to the [Slides](http://bit.ly/do-we-know-our-data) for the step here after."
      ]
    },
    {
      "metadata": {
        "id": "C8uyqenw17x9",
        "colab_type": "text"
      },
      "cell_type": "markdown",
      "source": [
        "#### Load Your Data"
      ]
    },
    {
      "metadata": {
        "id": "8o5QgSW519Ar",
        "colab_type": "code",
        "outputId": "fad93ebd-1fda-4bba-a68b-5fd974fcef04",
        "colab": {
          "base_uri": "https://localhost:8080/",
          "height": 967
        }
      },
      "cell_type": "code",
      "source": [
        "import pandas\n",
        "import numpy as np\n",
        "import seaborn as sns\n",
        "import matplotlib.pyplot as plt\n",
        "\n",
        "url = \"https://raw.githubusercontent.com/jbrownlee/Datasets/master/housing.csv\"\n",
        "names = [\"crim\",\"zn\",\"indus\",\"chas\",\"nox\",\"rm\",\"age\",\"dis\",\"rad\",\"tax\",\"ptratio\",\"b\",\"lstat\",\"medv\"]\n",
        "data = pandas.read_csv(url, names=names)\n",
        "\n",
        "!rm  housing.names || true\n",
        "!wget https://raw.githubusercontent.com/jbrownlee/Datasets/master/housing.names &> /dev/null\n",
        "print(\"Names and descriptions of the fields of the Boston Housing dataset can be found at\")\n",
        "print(\"https://github.com/jbrownlee/Datasets/blob/master/housing.names\")\n",
        "print(\"\")\n",
        "!cat housing.names"
      ],
      "execution_count": 0,
      "outputs": [
        {
          "output_type": "stream",
          "text": [
            "Names of the fields and descriptions of the fields in the Boston Housing dataset can be found at\n",
            "https://github.com/jbrownlee/Datasets/blob/master/housing.names\n",
            "\n",
            "1. Title: Boston Housing Data\n",
            "\n",
            "2. Sources:\n",
            "   (a) Origin:  This dataset was taken from the StatLib library which is\n",
            "                maintained at Carnegie Mellon University.\n",
            "   (b) Creator:  Harrison, D. and Rubinfeld, D.L. 'Hedonic prices and the \n",
            "                 demand for clean air', J. Environ. Economics & Management,\n",
            "                 vol.5, 81-102, 1978.\n",
            "   (c) Date: July 7, 1993\n",
            "\n",
            "3. Past Usage:\n",
            "   -   Used in Belsley, Kuh & Welsch, 'Regression diagnostics ...', Wiley, \n",
            "       1980.   N.B. Various transformations are used in the table on\n",
            "       pages 244-261.\n",
            "    -  Quinlan,R. (1993). Combining Instance-Based and Model-Based Learning.\n",
            "       In Proceedings on the Tenth International Conference of Machine \n",
            "       Learning, 236-243, University of Massachusetts, Amherst. Morgan\n",
            "       Kaufmann.\n",
            "\n",
            "4. Relevant Information:\n",
            "\n",
            "   Concerns housing values in suburbs of Boston.\n",
            "\n",
            "5. Number of Instances: 506\n",
            "\n",
            "6. Number of Attributes: 13 continuous attributes (including \"class\"\n",
            "                         attribute \"MEDV\"), 1 binary-valued attribute.\n",
            "\n",
            "7. Attribute Information:\n",
            "\n",
            "    1. CRIM      per capita crime rate by town\n",
            "    2. ZN        proportion of residential land zoned for lots over \n",
            "                 25,000 sq.ft.\n",
            "    3. INDUS     proportion of non-retail business acres per town\n",
            "    4. CHAS      Charles River dummy variable (= 1 if tract bounds \n",
            "                 river; 0 otherwise)\n",
            "    5. NOX       nitric oxides concentration (parts per 10 million)\n",
            "    6. RM        average number of rooms per dwelling\n",
            "    7. AGE       proportion of owner-occupied units built prior to 1940\n",
            "    8. DIS       weighted distances to five Boston employment centres\n",
            "    9. RAD       index of accessibility to radial highways\n",
            "    10. TAX      full-value property-tax rate per $10,000\n",
            "    11. PTRATIO  pupil-teacher ratio by town\n",
            "    12. B        1000(Bk - 0.63)^2 where Bk is the proportion of blacks \n",
            "                 by town\n",
            "    13. LSTAT    % lower status of the population\n",
            "    14. MEDV     Median value of owner-occupied homes in $1000's\n",
            "\n",
            "8. Missing Attribute Values:  None.\n",
            "\n",
            "\n",
            "\n"
          ],
          "name": "stdout"
        }
      ]
    },
    {
      "metadata": {
        "id": "qIhcY8dYE6QZ",
        "colab_type": "text"
      },
      "cell_type": "markdown",
      "source": [
        "### Find hidden information\n",
        "\n",
        "- feature extraction\n",
        "- applying statistical functions\n",
        "- apply physics functions "
      ]
    },
    {
      "metadata": {
        "id": "OH3OVpoBJRtl",
        "colab_type": "text"
      },
      "cell_type": "markdown",
      "source": [
        "#### Feature extraction"
      ]
    },
    {
      "metadata": {
        "id": "D8ZA1ghXGNAS",
        "colab_type": "code",
        "colab": {}
      },
      "cell_type": "code",
      "source": [
        ""
      ],
      "execution_count": 0,
      "outputs": []
    },
    {
      "metadata": {
        "id": "Mm5EsDitJXgQ",
        "colab_type": "text"
      },
      "cell_type": "markdown",
      "source": [
        "####  Applying statistical functions"
      ]
    },
    {
      "metadata": {
        "id": "WjnQpQCFJq4G",
        "colab_type": "code",
        "colab": {}
      },
      "cell_type": "code",
      "source": [
        ""
      ],
      "execution_count": 0,
      "outputs": []
    },
    {
      "metadata": {
        "id": "SEPARsYEJrnn",
        "colab_type": "text"
      },
      "cell_type": "markdown",
      "source": [
        "#### Apply physics functions"
      ]
    },
    {
      "metadata": {
        "id": "icXl0KwkK7tD",
        "colab_type": "code",
        "colab": {}
      },
      "cell_type": "code",
      "source": [
        ""
      ],
      "execution_count": 0,
      "outputs": []
    },
    {
      "metadata": {
        "id": "dSdqmARsDwbM",
        "colab_type": "text"
      },
      "cell_type": "markdown",
      "source": [
        "### Deal with too many features / too much data"
      ]
    },
    {
      "metadata": {
        "id": "4QO_AyToFPBw",
        "colab_type": "text"
      },
      "cell_type": "markdown",
      "source": [
        "- dimensionality reduction\n",
        "- feature selection"
      ]
    },
    {
      "metadata": {
        "id": "kP4yEElUGNhi",
        "colab_type": "text"
      },
      "cell_type": "markdown",
      "source": [
        "#### Dimensionality reduction"
      ]
    },
    {
      "metadata": {
        "id": "Wfy1fiEXFhS7",
        "colab_type": "code",
        "colab": {}
      },
      "cell_type": "code",
      "source": [
        ""
      ],
      "execution_count": 0,
      "outputs": []
    },
    {
      "metadata": {
        "id": "R5bFngNdFYWF",
        "colab_type": "text"
      },
      "cell_type": "markdown",
      "source": [
        "#### Feature selection"
      ]
    },
    {
      "metadata": {
        "id": "VTwnUrMVLBss",
        "colab_type": "code",
        "colab": {}
      },
      "cell_type": "code",
      "source": [
        ""
      ],
      "execution_count": 0,
      "outputs": []
    },
    {
      "metadata": {
        "id": "5OisyWxwGtCa",
        "colab_type": "text"
      },
      "cell_type": "markdown",
      "source": [
        "### Statistical Inference"
      ]
    },
    {
      "metadata": {
        "id": "QbsxTd1zGwsh",
        "colab_type": "text"
      },
      "cell_type": "markdown",
      "source": [
        "- [Understanding statistical inference]() [video]\n",
        "- [Four ideas of Statistical Inference](http://www.bristol.ac.uk/medical-school/media/rms/red/4_ideas_of_statistical_inference.html)\n",
        "- [An Introduction to Statistical Learning](http://www-bcf.usc.edu/~gareth/ISL/) [book]\n",
        "- [Statistical Inference](https://www.coursera.org/learn/statistical-inference) [course]\n"
      ]
    },
    {
      "metadata": {
        "id": "5ZVFw4kaHVtO",
        "colab_type": "text"
      },
      "cell_type": "markdown",
      "source": [
        "### Please refer to the [Slides](http://bit.ly/do-you-know-your-data) for the step here after."
      ]
    }
  ]
}